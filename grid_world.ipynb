{
 "cells": [
  {
   "cell_type": "code",
   "execution_count": null,
   "id": "4961d331-e098-4ec2-8176-8909093aaae6",
   "metadata": {},
   "outputs": [],
   "source": [
    "import numpy as np\n",
    "import random\n",
    "\n",
    "class GridWorld:\n",
    "    # call to initialize grid world enviroment, default will be a 5x5 grid with a start point at the top left corner and goal at\n",
    "    # the bottom right corner, no obsticals, if probablity of obsticals is given, these will be placed in enviroment randomly\n",
    "    def _init_(self, grid_size=(5, 5), start_point=(0,0), goal_point=None, prob_obstical=0)\n",
    "        self.grid_size = grid_size\n",
    "        self.start_point = start_point\n",
    "        \n",
    "        if goal_point = None:\n",
    "            self.goal_point = (grid_size[0] - 1, grid_size[1] - 1)\n",
    "        else:\n",
    "            self.goal_point = goal_point\n",
    "        \n",
    "        self.agent_point = start_point\n",
    "        self.action = ['up', 'down', 'left', 'right']\n",
    "        \n",
    "        if prob_obsitcal > 0:\n",
    "            for r in range(self.grid_size[0]):\n",
    "                for c in range(self.grid_size[1]):\n",
    "                    if random.random() < prob_obstacle and (r, c) != self.agent_point and (r, c) != self.goal_point:\n",
    "                        self.grid[r, c] = 1\n",
    "        \n",
    "    def move(self, action):\n",
    "        if action == 'up' and self.agent_point[0] > 0:\n",
    "            self.agent_point[0] -= 1\n",
    "        elif action == 'down' and self.agent_point[0] < self.grid_size[0] - 1:\n",
    "            self.agent_point[0] += 1\n",
    "        elif action == 'left' and self.agent_point[1] > 0:\n",
    "            self.agent_point[1] -= 1\n",
    "        elif action == 'right' and self.agent_point[1] < self.grid_size[1] - 1:\n",
    "            self.agent_point[1] += 1\n",
    "        return self.agent_point\n",
    "    \n",
    "    def is_at_goal(self):\n",
    "        return self.agent_point == self.goal_point\n",
    "    \n",
    "    def current_point(self):\n",
    "        return self.agent_point\n",
    "    \n",
    "    def reward(self):\n",
    "        if self.is_at_goal():\n",
    "            return 10\n",
    "        return -1\n",
    "    \n"
   ]
  }
 ],
 "metadata": {
  "kernelspec": {
   "display_name": "Python 3",
   "language": "python",
   "name": "python3"
  },
  "language_info": {
   "codemirror_mode": {
    "name": "ipython",
    "version": 3
   },
   "file_extension": ".py",
   "mimetype": "text/x-python",
   "name": "python",
   "nbconvert_exporter": "python",
   "pygments_lexer": "ipython3",
   "version": "3.8.8"
  }
 },
 "nbformat": 4,
 "nbformat_minor": 5
}
